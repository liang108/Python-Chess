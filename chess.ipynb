{
 "metadata": {
  "language_info": {
   "codemirror_mode": {
    "name": "ipython",
    "version": 3
   },
   "file_extension": ".py",
   "mimetype": "text/x-python",
   "name": "python",
   "nbconvert_exporter": "python",
   "pygments_lexer": "ipython3",
   "version": "3.7.1-final"
  },
  "orig_nbformat": 2,
  "kernelspec": {
   "name": "python_defaultSpec_1600385377466",
   "display_name": "Python 3.7.1 32-bit"
  }
 },
 "nbformat": 4,
 "nbformat_minor": 2,
 "cells": [
  {
   "cell_type": "code",
   "execution_count": 41,
   "metadata": {
    "tags": []
   },
   "outputs": [
    {
     "output_type": "stream",
     "name": "stdout",
     "text": "P\n"
    }
   ],
   "source": [
    "mypiece = Piece(0,1, \"white\")\n",
    "mypawn = Pawn(1,2, \"white\")\n",
    "print(mypawn.symbol)"
   ]
  },
  {
   "cell_type": "code",
   "execution_count": 39,
   "metadata": {},
   "outputs": [],
   "source": [
    "class Piece:\n",
    "    def __init__(self, init_row, init_col, team):\n",
    "        self.row = init_row\n",
    "        self.col = init_col\n",
    "        self.color = team\n",
    "        self.position = [self.row, self.col]\n",
    "        self.moves = [self.row, self.col]"
   ]
  },
  {
   "cell_type": "code",
   "execution_count": 40,
   "metadata": {
    "tags": []
   },
   "outputs": [],
   "source": [
    "class Pawn(Piece):\n",
    "    def __init__(self, init_row, init_col, team):\n",
    "        if team == \"white\":\n",
    "            self.symbol = \"P\"\n",
    "        if team == \"black\":\n",
    "            self.symbol = \"p\"\n",
    "        Piece.__init__(self, init_row, init_col, team)\n",
    "\n",
    "    def __str__(self):\n",
    "        print(self.symbol)\n",
    "    \n",
    "    def CheckMoves(self, board):\n",
    "        self.moves = [self.row, self.col]   \n",
    "\n",
    "        # Based on Pawn's color, we want to build a list of possible positions for the pawn to move to\n",
    "\n",
    "        if self.color == \"white\":\n",
    "            if (self.row + 1 <= 7):                # If pawn is on furthest row then no moves are possible\n",
    "                if (board[self.row+1][self.col] == 0):      # Basic forward move is possible if square there is empty and is not on edge of board\n",
    "                    self.moves = self.moves + [self.row+1, self.col]\n",
    "                if (self.col + 1 <= 7):            # Check if piece not on right edge \n",
    "                    if (board[self.row+1][self.col+1] != 0): # Check if right diagonal square is not empty. Need previous condition so we don't access outside array\n",
    "                        self.moves = self.moves + [self.row+1, self.col+1]\n",
    "                if (self.col - 1 >= 0):\n",
    "                    if (board[self.row+1][self.col-1] != 0):    \n",
    "                        self.moves = self.moves + [self.x-1, self.y+1]\n",
    "\n",
    "            return self.moves\n",
    "\n",
    "        if self.color == \"black\":\n",
    "            if (self.row - 1 >= 0):\n",
    "                if (board[self.row-1][self.col] == 0):\n",
    "                    self.moves = self.moves + [self.row-1, self.col]\n",
    "            if (self.col - 1 >= 0):     # Right diagonal move is possible if square nonempty (from perspective of player with black pieces)\n",
    "                if (board[self.row-1][self.col-1] != 0): \n",
    "                    self.moves = self.moves + [self.row-1, self.col-1]\n",
    "            if (self.col + 1 <= 7):     # Left diagonal move is possible if square nonempty\n",
    "                if (board[self.row-1][self.col+1] != 0 ):\n",
    "                    self.moves = self.moves + [self.row-1, self.col+1]\n",
    "            \n",
    "            return self.moves\n",
    "    \n"
   ]
  },
  {
   "cell_type": "code",
   "execution_count": 37,
   "metadata": {},
   "outputs": [],
   "source": [
    "# board is an 8x8 matrix, or list of lists. Use lists since you want to be able to change values of squares\n",
    "# board[i][j] To access a square. i represents the row (file), and j represents the column (rank)\n",
    "# board[0][0] would be the bottom left square from the perspective of the player with white pieces \n",
    "# board[7][7] would be the bottom left square from the perspective of the player with black pieces\n",
    "# board[4][3] would be \"d5\" in algebraic chess representation\n",
    "# Empty spaces are represented with 0\n",
    "\n",
    "class Board: \n",
    "    def __init__(self):\n",
    "        #TODO: rewrite this with object representations instead of strings, then write string representation\n",
    "        self.matrix = [[\"R\", \"Kn\", \"B\", \"Q\", \"K\", \"B\", \"Kn\", \"R\"], [\"P\", \"P\", \"P\", \"P\", \"P\", \"P\", \"P\", \"P\"], [0,0,0,0,0,0,0,0], [0,0,0,0,0,0,0,0], [0,0,0,0,0,0,0,0], [0,0,0,0,0,0,0,0], [\"p\", \"p\", \"p\", \"p\", \"p\", \"p\", \"p\", \"p\"], [\"r\", \"kn\", \"b\", \"q\", \"k\", \"b\", \"kn\", \"r\"]]\n",
    "\n",
    "\n",
    "    def Display(self):\n",
    "        #TODO: As of now, matrix is printed backwards, since lines of output go under the previous one, need to fix\n",
    "\n",
    "        for row in self.matrix:\n",
    "            print('\\t'.join(map(str,row)))\n",
    "        \n",
    "\n",
    "    def CheckInProgress(self):    # Game ends when a King has been taken, or checkmate. Todo: Check for checkmate\n",
    "        white_king = False  # True indicates that piece is still in play\n",
    "        black_king = False \n",
    "\n",
    "        for row in self.matrix:\n",
    "            if(\"K\" in row): \n",
    "                white_king = True\n",
    "            if(\"k\" in row):\n",
    "                black_king = True\n",
    "        \n",
    "        if (white_king == True) and (black_king == True):\n",
    "            return True\n",
    "        else:\n",
    "            return False\n",
    "\n",
    "    def MovePiece(self, piece, new_row, new_col):  # Return True if move was made, False if move was not possible\n",
    "        legal_moves = CheckMoves(piece)\n",
    "        if [new_row, new_col] not in legal_moves:\n",
    "            print(\"Not a valid move.\")\n",
    "            return False\n",
    "        else:\n",
    "            self.matrix[piece.row][piece.col] = 0       \n",
    "            self.matrix[new_row][new_col] = piece.symbol \n",
    "            piece.row = new_row\n",
    "            piece.col = new_col\n",
    "            piece.position = [piece.row, piece.col]\n",
    "            return True\n"
   ]
  },
  {
   "cell_type": "code",
   "execution_count": 36,
   "metadata": {
    "tags": []
   },
   "outputs": [
    {
     "output_type": "stream",
     "name": "stdout",
     "text": "R\tKn\tB\tQ\tK\tB\tKn\tR\nP\tP\tP\tP\tP\tP\tP\tP\n0\t0\t0\t0\t0\t0\t0\t0\n0\t0\t0\t0\t0\t0\t0\t0\n0\t0\t0\t0\t0\t0\t0\t0\n0\t0\t0\t0\t0\t0\t0\t0\np\tp\tp\tp\tp\tp\tp\tp\nr\tkn\tb\tq\tk\tb\tkn\tr\n"
    },
    {
     "output_type": "execute_result",
     "data": {
      "text/plain": "True"
     },
     "metadata": {},
     "execution_count": 36
    }
   ],
   "source": [
    "myboard = Board()\n",
    "myboard.Display()\n",
    "\n",
    "myboard.CheckInProgress()"
   ]
  },
  {
   "cell_type": "code",
   "execution_count": null,
   "metadata": {},
   "outputs": [],
   "source": []
  }
 ]
}